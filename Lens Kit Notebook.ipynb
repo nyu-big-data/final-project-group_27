{
 "cells": [
  {
   "cell_type": "markdown",
   "metadata": {},
   "source": [
    "# Lens Kit Class Scratch \n",
    "\n",
    "## Goals:\n",
    "    Create a Lens Kit Class Object that outputs recommendations needed for RMSE and custom metrics\n",
    "     \n",
    "     \n",
    "     \n",
    " "
   ]
  },
  {
   "cell_type": "code",
   "execution_count": 22,
   "metadata": {
    "ExecuteTime": {
     "end_time": "2022-05-13T22:27:36.622211Z",
     "start_time": "2022-05-13T22:27:36.611274Z"
    }
   },
   "outputs": [],
   "source": [
    "import lenskit.datasets  \n",
    "import time\n",
    "from lenskit import batch, topn, util\n",
    "from lenskit import crossfold as xf\n",
    "import lenskit.algorithms \n",
    "#uncomment below cell\n",
    "from lenskit.algorithms import Recommender, als, item_knn as knn\n",
    "from lenskit import topn"
   ]
  },
  {
   "cell_type": "code",
   "execution_count": 2,
   "metadata": {
    "ExecuteTime": {
     "end_time": "2022-05-13T21:44:46.363637Z",
     "start_time": "2022-05-13T21:44:46.352673Z"
    }
   },
   "outputs": [
    {
     "name": "stdout",
     "output_type": "stream",
     "text": [
      "C:\\Users\\jonah\\School\\1004\\finalproj\n"
     ]
    }
   ],
   "source": [
    "cd ../School/1004/finalproj\n"
   ]
  },
  {
   "cell_type": "code",
   "execution_count": 16,
   "metadata": {
    "ExecuteTime": {
     "end_time": "2022-05-13T22:00:19.662913Z",
     "start_time": "2022-05-13T22:00:19.572155Z"
    }
   },
   "outputs": [],
   "source": [
    "#assumes dataset is in the right plaec\n",
    "ratings = lenskit.datasets.MovieLens('ml-latest-small').ratings\n",
    "#ratings = lenskit.datasets.MovieLens('ml-latest').ratings"
   ]
  },
  {
   "cell_type": "code",
   "execution_count": 17,
   "metadata": {
    "ExecuteTime": {
     "end_time": "2022-05-13T22:00:26.430614Z",
     "start_time": "2022-05-13T22:00:25.448994Z"
    }
   },
   "outputs": [
    {
     "name": "stdout",
     "output_type": "stream",
     "text": [
      "0\n",
      "1\n",
      "2\n",
      "3\n",
      "4\n",
      "5\n",
      "6\n",
      "7\n",
      "8\n",
      "9\n",
      "10\n",
      "11\n",
      "12\n",
      "13\n",
      "14\n",
      "15\n",
      "16\n",
      "17\n",
      "18\n",
      "19\n",
      "20\n",
      "21\n",
      "22\n",
      "23\n",
      "24\n",
      "25\n",
      "26\n",
      "27\n",
      "28\n",
      "29\n",
      "30\n",
      "31\n",
      "32\n",
      "33\n",
      "34\n",
      "35\n",
      "36\n",
      "37\n",
      "38\n",
      "39\n",
      "40\n",
      "41\n",
      "42\n",
      "43\n",
      "44\n",
      "45\n",
      "46\n",
      "47\n",
      "48\n",
      "49\n",
      "50\n",
      "51\n",
      "52\n",
      "53\n",
      "54\n",
      "55\n",
      "56\n",
      "57\n",
      "58\n",
      "59\n",
      "60\n",
      "61\n",
      "62\n",
      "63\n",
      "64\n",
      "65\n",
      "66\n",
      "67\n",
      "68\n",
      "69\n",
      "70\n",
      "71\n",
      "72\n",
      "73\n",
      "74\n",
      "75\n",
      "76\n",
      "77\n",
      "78\n",
      "79\n",
      "80\n",
      "81\n",
      "82\n",
      "83\n",
      "84\n",
      "85\n",
      "86\n",
      "87\n",
      "88\n",
      "89\n",
      "90\n",
      "91\n",
      "92\n",
      "93\n",
      "94\n",
      "95\n",
      "96\n",
      "97\n",
      "98\n",
      "99\n"
     ]
    }
   ],
   "source": [
    "#change partitions to a higher number when working with large \n",
    "for i, tp in enumerate(xf.partition_users(ratings, partitions=100, method=xf.LastFrac(.4))):\n",
    "    print(i)\n",
    "    train=tp.train\n",
    "    test=tp.test"
   ]
  },
  {
   "cell_type": "code",
   "execution_count": null,
   "metadata": {
    "ExecuteTime": {
     "end_time": "2022-05-13T21:19:06.409439Z",
     "start_time": "2022-05-13T21:19:06.394488Z"
    }
   },
   "outputs": [],
   "source": []
  },
  {
   "cell_type": "raw",
   "metadata": {},
   "source": []
  },
  {
   "cell_type": "markdown",
   "metadata": {},
   "source": [
    "# sanity check, test and val data are after train data"
   ]
  },
  {
   "cell_type": "code",
   "execution_count": 5,
   "metadata": {
    "ExecuteTime": {
     "end_time": "2022-05-13T21:50:43.125619Z",
     "start_time": "2022-05-13T21:50:42.073400Z"
    }
   },
   "outputs": [],
   "source": [
    "max_train_timestamp = train.groupby('user').agg('max').timestamp\n",
    "min_test_timestamp = test.groupby('user').agg('min').timestamp"
   ]
  },
  {
   "cell_type": "markdown",
   "metadata": {},
   "source": [
    "# create val and test data"
   ]
  },
  {
   "cell_type": "code",
   "execution_count": 18,
   "metadata": {
    "ExecuteTime": {
     "end_time": "2022-05-13T22:01:07.331917Z",
     "start_time": "2022-05-13T22:01:07.322975Z"
    }
   },
   "outputs": [],
   "source": [
    "#val = test.loc[test.user.isin(range(1,int(283228/2)))]\n",
    "val = test.loc[test.user.isin(range(1,306))]"
   ]
  },
  {
   "cell_type": "code",
   "execution_count": 19,
   "metadata": {
    "ExecuteTime": {
     "end_time": "2022-05-13T22:01:07.701956Z",
     "start_time": "2022-05-13T22:01:07.687278Z"
    }
   },
   "outputs": [],
   "source": [
    "#test = test.loc[test.user.isin(range(int(283228/2),611))]\n",
    "test = test.loc[test.user.isin(range(306,611))]"
   ]
  },
  {
   "cell_type": "markdown",
   "metadata": {},
   "source": [
    "## Sanity checks test and val data have no user intersection\n"
   ]
  },
  {
   "cell_type": "code",
   "execution_count": 8,
   "metadata": {
    "ExecuteTime": {
     "end_time": "2022-05-13T21:50:43.185426Z",
     "start_time": "2022-05-13T21:50:43.172461Z"
    }
   },
   "outputs": [
    {
     "data": {
      "text/plain": [
       "set()"
      ]
     },
     "execution_count": 8,
     "metadata": {},
     "output_type": "execute_result"
    }
   ],
   "source": [
    "set(val.user.unique()).intersection(set(test.user.unique()))\n"
   ]
  },
  {
   "cell_type": "code",
   "execution_count": 9,
   "metadata": {
    "ExecuteTime": {
     "end_time": "2022-05-13T21:51:31.669045Z",
     "start_time": "2022-05-13T21:50:43.187453Z"
    }
   },
   "outputs": [
    {
     "name": "stderr",
     "output_type": "stream",
     "text": [
      "could not load LIBBLAS: Could not find module 'libblas' (or one of its dependencies). Try using the full path with constructor syntax.\n"
     ]
    },
    {
     "name": "stdout",
     "output_type": "stream",
     "text": [
      "model\n",
      "rec.adapt\n"
     ]
    },
    {
     "name": "stderr",
     "output_type": "stream",
     "text": [
      "Numba is using threading layer omp - consider TBB\n",
      "found 1 potential runtime problems - see https://boi.st/lkpy-perf\n"
     ]
    },
    {
     "name": "stdout",
     "output_type": "stream",
     "text": [
      "rec.fit\n",
      "users\n"
     ]
    }
   ],
   "source": [
    "model = als.BiasedMF(5, iterations=20, method='lu', progress=None, rng_spec = 5)\n",
    "print('model')\n",
    "rec= Recommender.adapt(model)\n",
    "print('rec.adapt')\n",
    "rec.fit(train)\n",
    "\n",
    "users=train.user.unique()\n",
    "print(\"users\")\n",
    "b=lenskit.batch.recommend(rec, [1,2,3,4,5], 100)"
   ]
  },
  {
   "cell_type": "code",
   "execution_count": 15,
   "metadata": {
    "ExecuteTime": {
     "end_time": "2022-05-13T21:55:43.160805Z",
     "start_time": "2022-05-13T21:55:36.788227Z"
    }
   },
   "outputs": [],
   "source": [
    "def param_search(combos_list, method, users, train, val):\n",
    "    \"\"\"\n",
    "    combos_list: array of tuples that we have pyspark times and accuracies for\n",
    "    method: str -either 'lu' or 'cd'\n",
    "    users: list of unique userids\n",
    "    train: train dataset\n",
    "    val: validation or test set\n",
    "    \"\"\"\n",
    "    out_array=list()\n",
    "    for i in combos_list:\n",
    "        \n",
    "        model = als.BiasedMF(i[0], i[1], method=method, progress=None, rng_spec = 5)\n",
    "        rec= Recommender.adapt(model)\n",
    "        \n",
    "        #train start time\n",
    "        train_start = time.time()\n",
    "        rec.fit(train)\n",
    "        \n",
    "        #train end time\n",
    "        train_end = time.time()\n",
    "        \n",
    "        #pred start time\n",
    "        pred_start = time.time()\n",
    "        recommendations = lenskit.batch.recommend(rec, users, 100)\n",
    "        \n",
    "        #pred end time\n",
    "        pred_end=time.time()\n",
    "        \n",
    "        #functon yet to be created\n",
    "        metrics = accuracy_metrics(recommendations, val)\n",
    "        \n",
    "        train_time = train_end-train_start\n",
    "        pred_time = pred_end-pred_start\n",
    "        out_array.append(metrics+)\n",
    "        \n",
    "        \n",
    "        \n",
    "        "
   ]
  },
  {
   "cell_type": "code",
   "execution_count": 20,
   "metadata": {
    "ExecuteTime": {
     "end_time": "2022-05-13T22:25:18.667097Z",
     "start_time": "2022-05-13T22:25:18.650143Z"
    }
   },
   "outputs": [
    {
     "ename": "AttributeError",
     "evalue": "module 'lenskit.util' has no attribute 'stopwatch'",
     "output_type": "error",
     "traceback": [
      "\u001b[1;31m---------------------------------------------------------------------------\u001b[0m",
      "\u001b[1;31mAttributeError\u001b[0m                            Traceback (most recent call last)",
      "\u001b[1;32m<ipython-input-20-7fb2a8a3acb2>\u001b[0m in \u001b[0;36m<module>\u001b[1;34m\u001b[0m\n\u001b[1;32m----> 1\u001b[1;33m \u001b[0mtimer\u001b[0m \u001b[1;33m=\u001b[0m \u001b[0mutil\u001b[0m\u001b[1;33m.\u001b[0m\u001b[0mstopwatch\u001b[0m\u001b[1;33m(\u001b[0m\u001b[1;33m)\u001b[0m\u001b[1;33m\u001b[0m\u001b[1;33m\u001b[0m\u001b[0m\n\u001b[0m",
      "\u001b[1;31mAttributeError\u001b[0m: module 'lenskit.util' has no attribute 'stopwatch'"
     ]
    }
   ],
   "source": [
    "timer = util.stopwatch()"
   ]
  },
  {
   "cell_type": "code",
   "execution_count": 23,
   "metadata": {
    "ExecuteTime": {
     "end_time": "2022-05-13T22:34:52.728197Z",
     "start_time": "2022-05-13T22:34:52.723211Z"
    }
   },
   "outputs": [
    {
     "data": {
      "text/plain": [
       "(1, 2, 3, 4)"
      ]
     },
     "execution_count": 23,
     "metadata": {},
     "output_type": "execute_result"
    }
   ],
   "source": [
    "(1,2)+(3,4)"
   ]
  },
  {
   "cell_type": "code",
   "execution_count": null,
   "metadata": {},
   "outputs": [],
   "source": []
  }
 ],
 "metadata": {
  "hide_input": false,
  "kernelspec": {
   "display_name": "Python 3",
   "language": "python",
   "name": "python3"
  },
  "language_info": {
   "codemirror_mode": {
    "name": "ipython",
    "version": 3
   },
   "file_extension": ".py",
   "mimetype": "text/x-python",
   "name": "python",
   "nbconvert_exporter": "python",
   "pygments_lexer": "ipython3",
   "version": "3.8.5"
  },
  "latex_envs": {
   "LaTeX_envs_menu_present": true,
   "autoclose": false,
   "autocomplete": true,
   "bibliofile": "biblio.bib",
   "cite_by": "apalike",
   "current_citInitial": 1,
   "eqLabelWithNumbers": true,
   "eqNumInitial": 1,
   "hotkeys": {
    "equation": "Ctrl-E",
    "itemize": "Ctrl-I"
   },
   "labels_anchors": false,
   "latex_user_defs": false,
   "report_style_numbering": false,
   "user_envs_cfg": false
  },
  "toc": {
   "base_numbering": 1,
   "nav_menu": {},
   "number_sections": true,
   "sideBar": true,
   "skip_h1_title": false,
   "title_cell": "Table of Contents",
   "title_sidebar": "Contents",
   "toc_cell": false,
   "toc_position": {},
   "toc_section_display": true,
   "toc_window_display": false
  },
  "varInspector": {
   "cols": {
    "lenName": 16,
    "lenType": 16,
    "lenVar": 40
   },
   "kernels_config": {
    "python": {
     "delete_cmd_postfix": "",
     "delete_cmd_prefix": "del ",
     "library": "var_list.py",
     "varRefreshCmd": "print(var_dic_list())"
    },
    "r": {
     "delete_cmd_postfix": ") ",
     "delete_cmd_prefix": "rm(",
     "library": "var_list.r",
     "varRefreshCmd": "cat(var_dic_list()) "
    }
   },
   "types_to_exclude": [
    "module",
    "function",
    "builtin_function_or_method",
    "instance",
    "_Feature"
   ],
   "window_display": false
  }
 },
 "nbformat": 4,
 "nbformat_minor": 5
}
